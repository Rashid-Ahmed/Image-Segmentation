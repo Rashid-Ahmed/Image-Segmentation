{
 "cells": [
  {
   "cell_type": "code",
   "execution_count": null,
   "metadata": {
    "executionInfo": {
     "elapsed": 259698,
     "status": "ok",
     "timestamp": 1610647602623,
     "user": {
      "displayName": "dikshant gupta",
      "photoUrl": "https://lh3.googleusercontent.com/a-/AOh14GjGExYbOwwSrmoe8LVKyI5XQQl2f1k4HbD2Vx5Vpg=s64",
      "userId": "01845807612441668603"
     },
     "user_tz": -60
    },
    "id": "qunDv45j24Mg"
   },
   "outputs": [],
   "source": [
    "import os\n",
    "os.environ[\"CUDA_VISIBLE_DEVICES\"] = \"4\"\n",
    "from os.path import join as pjoin\n",
    "import collections\n",
    "import json\n",
    "import torch\n",
    "import imageio\n",
    "import numpy as np\n",
    "import scipy.misc as m\n",
    "import scipy.io as io\n",
    "import matplotlib.pyplot as plt\n",
    "import glob\n",
    "import pandas as pd\n",
    "from PIL import Image\n",
    "from tqdm import tqdm\n",
    "from torch.utils import data\n",
    "import torchvision\n",
    "import torch.nn as nn\n",
    "import torch.nn.functional as F\n",
    "from Dataloader import Trainloader, Testloader\n",
    "from model import R2UNet\n",
    "from metrics import evaluate"
   ]
  },
  {
   "cell_type": "code",
   "execution_count": null,
   "metadata": {},
   "outputs": [],
   "source": [
    "\n",
    "#HYPERPARAMETERS\n",
    "BATCH_SIZE = 4\n",
    "STEP_SIZE = 0.007\n",
    "EPOCHS = 1\n",
    "wgtFile = \"/home/s9dxschm/r2unet.pt\""
   ]
  },
  {
   "cell_type": "code",
   "execution_count": null,
   "metadata": {
    "executionInfo": {
     "elapsed": 11035,
     "status": "ok",
     "timestamp": 1610647664665,
     "user": {
      "displayName": "dikshant gupta",
      "photoUrl": "https://lh3.googleusercontent.com/a-/AOh14GjGExYbOwwSrmoe8LVKyI5XQQl2f1k4HbD2Vx5Vpg=s64",
      "userId": "01845807612441668603"
     },
     "user_tz": -60
    },
    "id": "QfQiOnEkGZat"
   },
   "outputs": [],
   "source": [
    "# Creating an instance of the model defined above. \n",
    "# You can modify it incase you need to pass paratemers to the constructor.\n",
    "model = R2UNet()"
   ]
  },
  {
   "cell_type": "code",
   "execution_count": null,
   "metadata": {},
   "outputs": [],
   "source": [
    "trainloader = Trainloader(BATCH_SIZE = BATCH_SIZE)\n",
    "testloader = Testloader(BATCH_SIZE = BATCH_SIZE)\n",
    "\n"
   ]
  },
  {
   "cell_type": "code",
   "execution_count": null,
   "metadata": {},
   "outputs": [],
   "source": [
    "# loss function\n",
    "loss_f = nn.CrossEntropyLoss()\n",
    "# optimizer variable\n",
    "optimizer = torch.optim.SGD(model.parameters(), lr=STEP_SIZE)"
   ]
  },
  {
   "cell_type": "code",
   "execution_count": null,
   "metadata": {
    "id": "Xz08hSdPKODm"
   },
   "outputs": [],
   "source": [
    "#load model\n",
    "if os.path.isfile(wgtFile):\n",
    "    model = R2UNet()\n",
    "    model.load_state_dict(torch.load(wgtFile))\n",
    "\n",
    "# train model\n",
    "for _ in range(EPOCHS):\n",
    "    for i, d in enumerate(trainloader):\n",
    "        print (i)\n",
    "        images_batch, labels_batch = d\n",
    "        labels_batch = (labels_batch * 255).long() #when converted to tensor labels have to be multiplied by 255 to get back classes\n",
    "        if labels_batch.shape[0] == BATCH_SIZE:\n",
    "            labels_batch = torch.reshape(labels_batch, (BATCH_SIZE, 256, 512))\n",
    "            optimizer.zero_grad()\n",
    "            outputs = model(images_batch)\n",
    "            loss = loss_f(outputs, labels_batch)\n",
    "            loss.backward()\n",
    "            optimizer.step()\n",
    "    #save model\n",
    "torch.save(model.state_dict(), \"/home/s9dxschm/r2unet.pt\")"
   ]
  },
  {
   "cell_type": "code",
   "execution_count": null,
   "metadata": {},
   "outputs": [],
   "source": [
    "#testing model on validation dataset\n",
    "with torch.no_grad():\n",
    "    for i, data in enumerate(testloader):\n",
    "      \n",
    "        images_batch, labels_batch = data\n",
    "        labels_batch = (labels_batch * 255)\n",
    "        outputs = model(images_batch)\n",
    "        _, predicted = torch.max(outputs, 1)\n",
    "        \n",
    "\n",
    "        if i == 0:\n",
    "            ground_truth = labels_batch\n",
    "            predictions = predicted\n",
    "        else:\n",
    "            ground_truth = torch.cat((ground_truth, labels_batch), 0)\n",
    "            predictions = torch.cat((predictions, predicted), 0)\n",
    "        break\n",
    "Acc, SE, SP, F1, Dice = evaluate(ground_truth, predictions)\n",
    "\n",
    "np.savetxt(\"Accuracy\", np.array([Acc]))\n",
    "np.savetxt(\"Sensitivity\", np.array([SE]))\n",
    "np.savetxt(\"Specificity\", np.array([SP]))\n",
    "np.savetxt(\"F1 score\", np.array([F1]))\n",
    "np.savetxt(\"Dice coef\", np.array([Dice]))\n",
    "\n"
   ]
  }
 ],
 "metadata": {
  "accelerator": "GPU",
  "colab": {
   "authorship_tag": "ABX9TyNWH9Es3iVeYFlc2UXzgAC7",
   "collapsed_sections": [],
   "mount_file_id": "1VGd6BoJzZfNjljQpW2Y1nDcze9QND0pA",
   "name": "Copy of segmentation_1.ipynb",
   "provenance": [
    {
     "file_id": "1VGd6BoJzZfNjljQpW2Y1nDcze9QND0pA",
     "timestamp": 1610458540688
    }
   ]
  },
  "kernelspec": {
   "display_name": "Python 3",
   "language": "python",
   "name": "python3"
  },
  "language_info": {
   "codemirror_mode": {
    "name": "ipython",
    "version": 3
   },
   "file_extension": ".py",
   "mimetype": "text/x-python",
   "name": "python",
   "nbconvert_exporter": "python",
   "pygments_lexer": "ipython3",
   "version": "3.8.5"
  }
 },
 "nbformat": 4,
 "nbformat_minor": 1
}
